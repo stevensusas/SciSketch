{
 "cells": [
  {
   "cell_type": "code",
   "execution_count": 3,
   "metadata": {},
   "outputs": [],
   "source": [
    "import sys\n",
    "import json\n",
    "from openai import OpenAI\n",
    "from dotenv import load_dotenv\n",
    "import Graph \n",
    "import re\n",
    "import os\n",
    "\n",
    "\n",
    "def get_graph_from_abstract(abstract):\n",
    "    load_dotenv()\n",
    "    client = OpenAI(\n",
    "      api_key=os.environ.get('mykey')\n",
    "    )\n",
    "    attempt = 0\n",
    "    max_attempts = 5\n",
    "    success = False\n",
    "\n",
    "    while not success and attempt < max_attempts:\n",
    "        try:\n",
    "            completion = client.chat.completions.create(\n",
    "                model=\"gpt-4-0125-preview\",\n",
    "                messages=[\n",
    "                  {\"role\": \"user\", \"content\": \"identify a list of entities in this science abstract and their relations, storing the list of entities as an array of three element tuple of strings and the relations as an array of tuples in the format of (Entity A, Entity B, Relationship):\" + abstract},\n",
    "                ],\n",
    "            )\n",
    "\n",
    "            message = completion.choices[0].message.content\n",
    "            print(message) \n",
    "\n",
    "            entities_output = re.findall(r'\\d+\\.\\s+(.*)', message)\n",
    "\n",
    "            relations = [tuple(item[1:-1].split(', ')) for item in entities_output if item.startswith('(') and item.endswith(')')]\n",
    "\n",
    "            graph = Graph.Graph()\n",
    "\n",
    "            for relation in relations:\n",
    "                if len(relation) == 3:\n",
    "                    entity_a, entity_b, annotation = relation\n",
    "                    graph.add_vertex(entity_a)\n",
    "                    graph.add_vertex(entity_b)\n",
    "                    graph.add_edge(entity_a, entity_b, annotation)\n",
    "\n",
    "            graph.display()  # This will print the graph representation\n",
    "\n",
    "            success = True \n",
    "            return json.dumps(graph.adjacency_list)\n",
    "\n",
    "        except Exception as e:\n",
    "            print(f\"Attempt {attempt + 1} failed with error: {e}\")\n",
    "            attempt += 1  # Increment the attempt counter and try again\n"
   ]
  },
  {
   "cell_type": "code",
   "execution_count": 4,
   "metadata": {},
   "outputs": [],
   "source": [
    "abstract = \"Neurodegenerative diseases are characterized by the formation and propagation of protein aggregates, especially amyloid fibrils. However, what normally suppresses protein misfolding and aggregation in metazoan cells remains incompletely understood. Here, we show that TRIM11, a member of the metazoan tripartite motif (TRIM) family, both prevents the formation of protein aggregates and dissolves pre-existing protein deposits, including amyloid fibrils. These molecular chaperone and disaggregase activities are ATP independent. They enhance folding and solubility of normal proteins and cooperate with TRIM11 SUMO ligase activity to degrade aberrant proteins. TRIM11 abrogates α-synuclein fibrillization and restores viability in cell models of Parkinson's disease (PD). Intracranial adeno-associated viral delivery of TRIM11 mitigates α-synuclein-mediated pathology, neurodegeneration, and motor impairments in a PD mouse model. Other TRIMs can also function as ATP-independent molecular chaperones and disaggregases. Thus, we define TRIMs as a potent and multifunctional protein quality-control system in metazoa, which might be applied to treat neurodegenerative diseases.\"\n",
    "\n"
   ]
  },
  {
   "cell_type": "code",
   "execution_count": 7,
   "metadata": {},
   "outputs": [
    {
     "name": "stdout",
     "output_type": "stream",
     "text": [
      "### Entities List\n",
      "1. Neurodegenerative diseases\n",
      "2. Protein aggregates\n",
      "3. Amyloid fibrils\n",
      "4. Metazoan cells\n",
      "5. TRIM11\n",
      "6. TRIM family\n",
      "7. Molecular chaperone activities\n",
      "8. Disaggregase activities\n",
      "9. ATP (Adenosine triphosphate)\n",
      "10. Folding and solubility\n",
      "11. Normal proteins\n",
      "12. TRIM11 SUMO ligase activity\n",
      "13. Aberrant proteins\n",
      "14. α-synuclein fibrillization\n",
      "15. Parkinson's disease (PD)\n",
      "16. Intracranial adeno-associated viral delivery\n",
      "17. Pathology\n",
      "18. Neurodegeneration\n",
      "19. Motor impairments\n",
      "20. PD mouse model\n",
      "21. Other TRIMs\n",
      "\n",
      "### Relations\n",
      "1. (Neurodegenerative diseases, Protein aggregates, characterized by)\n",
      "2. (Protein aggregates, Amyloid fibrils, especially)\n",
      "3. (TRIM11, Protein aggregates, prevents formation of)\n",
      "4. (TRIM11, Protein deposits, dissolves pre-existing)\n",
      "5. (Protein deposits, Amyloid fibrils, including)\n",
      "6. (Molecular chaperone activities, ATP, independent)\n",
      "7. (Disaggregase activities, ATP, independent)\n",
      "8. (Molecular chaperone activities, Folding and solubility, enhance)\n",
      "9. (TRIM11 SUMO ligase activity, Aberrant proteins, to degrade)\n",
      "10. (TRIM11, α-synuclein fibrillization, abrogates)\n",
      "11. (TRIM11, Parkinson's disease cell models, restores viability in)\n",
      "12. (Intracranial adeno-associated viral delivery, PD mouse model, mitigates α-synuclein-mediated pathology in)\n",
      "13. (PD mouse model, Motor impairments, experiences)\n",
      "14. (TRIM11, Neurodegeneration, mitigates in PD mouse model)\n",
      "15. (Other TRIMs, ATP-independent molecular chaperone and disaggregase activities, can also function as)\n",
      "\n",
      "This representation simplifies the abstract to identify the key entities and their relationships, which are crucial for understanding how TRIM11 and other TRIM proteins could play a significant role in combating neurodegenerative diseases.\n",
      "Neurodegenerative diseases: [('Protein aggregates', 'characterized by')]\n",
      "Protein aggregates: [('Neurodegenerative diseases', 'characterized by'), ('Amyloid fibrils', 'especially'), ('TRIM11', 'prevents formation of')]\n",
      "Amyloid fibrils: [('Protein aggregates', 'especially'), ('Protein deposits', 'including')]\n",
      "TRIM11: [('Protein aggregates', 'prevents formation of'), ('Protein deposits', 'dissolves pre-existing'), ('α-synuclein fibrillization', 'abrogates'), (\"Parkinson's disease cell models\", 'restores viability in'), ('Neurodegeneration', 'mitigates in PD mouse model')]\n",
      "Protein deposits: [('TRIM11', 'dissolves pre-existing'), ('Amyloid fibrils', 'including')]\n",
      "Molecular chaperone activities: [('ATP', 'independent'), ('Folding and solubility', 'enhance')]\n",
      "ATP: [('Molecular chaperone activities', 'independent'), ('Disaggregase activities', 'independent')]\n",
      "Disaggregase activities: [('ATP', 'independent')]\n",
      "Folding and solubility: [('Molecular chaperone activities', 'enhance')]\n",
      "TRIM11 SUMO ligase activity: [('Aberrant proteins', 'to degrade')]\n",
      "Aberrant proteins: [('TRIM11 SUMO ligase activity', 'to degrade')]\n",
      "α-synuclein fibrillization: [('TRIM11', 'abrogates')]\n",
      "Parkinson's disease cell models: [('TRIM11', 'restores viability in')]\n",
      "Intracranial adeno-associated viral delivery: [('PD mouse model', 'mitigates α-synuclein-mediated pathology in')]\n",
      "PD mouse model: [('Intracranial adeno-associated viral delivery', 'mitigates α-synuclein-mediated pathology in'), ('Motor impairments', 'experiences')]\n",
      "Motor impairments: [('PD mouse model', 'experiences')]\n",
      "Neurodegeneration: [('TRIM11', 'mitigates in PD mouse model')]\n",
      "Other TRIMs: [('ATP-independent molecular chaperone and disaggregase activities', 'can also function as')]\n",
      "ATP-independent molecular chaperone and disaggregase activities: [('Other TRIMs', 'can also function as')]\n"
     ]
    }
   ],
   "source": [
    "al = get_graph_from_abstract(abstract)"
   ]
  },
  {
   "cell_type": "code",
   "execution_count": 6,
   "metadata": {},
   "outputs": [
    {
     "data": {
      "text/plain": [
       "'{\"Neurodegenerative diseases\": [[\"Protein aggregates\", \"characterized by\"]], \"Protein aggregates\": [[\"Neurodegenerative diseases\", \"characterized by\"], [\"Amyloid fibrils\", \"especially includes\"], [\"TRIM11\", \"prevents formation of\"]], \"Amyloid fibrils\": [[\"Protein aggregates\", \"especially includes\"], [\"TRIM11\", \"dissolves including\"]], \"Protein misfolding\": [[\"Metazoan cells\", \"suppression in\"]], \"Metazoan cells\": [[\"Protein misfolding\", \"suppression in\"]], \"TRIM11\": [[\"Protein aggregates\", \"prevents formation of\"], [\"Protein deposits\", \"dissolves\"], [\"Amyloid fibrils\", \"dissolves including\"], [\"\\\\u03b1-synuclein fibrillization\", \"abrogates\"], [\"Cell models of PD\", \"restores viability in\"]], \"Protein deposits\": [[\"TRIM11\", \"dissolves\"]], \"Molecular chaperone activities\": [[\"ATP\", \"independent of\"]], \"ATP\": [[\"Molecular chaperone activities\", \"independent of\"], [\"Disaggregase activities\", \"independent of\"]], \"Disaggregase activities\": [[\"ATP\", \"independent of\"]], \"TRIM11 SUMO ligase activity\": [[\"Aberrant proteins\", \"degrades\"]], \"Aberrant proteins\": [[\"TRIM11 SUMO ligase activity\", \"degrades\"]], \"\\\\u03b1-synuclein fibrillization\": [[\"TRIM11\", \"abrogates\"]], \"Cell models of PD\": [[\"TRIM11\", \"restores viability in\"]], \"Intracranial adeno-associated viral delivery of TRIM11\": [[\"\\\\u03b1-synuclein-mediated pathology\", \"mitigates\"], [\"Neurodegeneration\", \"mitigates in PD mouse model\"], [\"Motor impairments\", \"mitigates in PD mouse model\"]], \"\\\\u03b1-synuclein-mediated pathology\": [[\"Intracranial adeno-associated viral delivery of TRIM11\", \"mitigates\"]], \"Neurodegeneration\": [[\"Intracranial adeno-associated viral delivery of TRIM11\", \"mitigates in PD mouse model\"]], \"Motor impairments\": [[\"Intracranial adeno-associated viral delivery of TRIM11\", \"mitigates in PD mouse model\"]], \"Other TRIMs\": [[\"Molecular chaperone and disaggregase activities\", \"can also function as ATP-independent\"]], \"Molecular chaperone and disaggregase activities\": [[\"Other TRIMs\", \"can also function as ATP-independent\"]]}'"
      ]
     },
     "execution_count": 6,
     "metadata": {},
     "output_type": "execute_result"
    }
   ],
   "source": [
    "al"
   ]
  },
  {
   "cell_type": "code",
   "execution_count": 1,
   "metadata": {},
   "outputs": [
    {
     "name": "stdout",
     "output_type": "stream",
     "text": [
      "{\"steps\": [\"Expose wild-type astrocytes to PBS\", \"Expose wild-type astrocytes to LPS\", \"Expose wild-type astrocytes to Poly(I:C)\", \"Expose ASH1L-depleted astrocytes to PBS\", \"Expose ASH1L-depleted astrocytes to LPS\", \"Expose ASH1L-depleted astrocytes to Poly(I:C)\", \"Use RT-qPCR to quantify the expression of IL6 and TNF in all samples\"], \"reagents/objects\": [\"Wild-type astrocytes\", \"ASH1L-depleted astrocytes\", \"PBS (Phosphate Buffered Saline)\", \"LPS (Lipopolysaccharide)\", \"Poly(I:C)\", \"RT-qPCR reagents\", \"IL6 and TNF gene primers\"]}\n"
     ]
    }
   ],
   "source": [
    "import os\n",
    "import re\n",
    "import json\n",
    "import ast\n",
    "from openai import OpenAI\n",
    "from dotenv import load_dotenv\n",
    "\n",
    "def process_sequential_protocol(protocol):\n",
    "    load_dotenv()\n",
    "\n",
    "    client = OpenAI(\n",
    "      api_key=os.environ.get('mykey')\n",
    "    )\n",
    "\n",
    "    completion = client.chat.completions.create(\n",
    "      model=\"gpt-4-0125-preview\",\n",
    "      messages=[\n",
    "        {\"role\": \"user\", \"content\": \"Identify the key steps and reagents/objects used in this biological experiment procedure, and generate two python arrays that store respectively strings describing the key steps and another python array that stores the reagents/objects \" + protocol},\n",
    "      ],\n",
    "    )\n",
    "\n",
    "    message = completion.choices[0].message.content\n",
    "\n",
    "    steps_match = re.search(r'steps = (\\[.*?\\])', message, re.DOTALL)\n",
    "    reagents_objects_match = re.search(r'reagents_objects = (\\[.*?\\])', message, re.DOTALL)\n",
    "\n",
    "    if steps_match and reagents_objects_match:\n",
    "        try:\n",
    "            steps_array = ast.literal_eval(steps_match.group(1))\n",
    "            reagents_objects_array = ast.literal_eval(reagents_objects_match.group(1))\n",
    "            return json.dumps({\"steps\": steps_array, \"reagents/objects\": reagents_objects_array})\n",
    "        except ValueError as e:\n",
    "            return json.dumps({\"error\": f\"Error processing the extracted data: {str(e)}\"})\n",
    "    else:\n",
    "        return json.dumps({\"error\": \"No steps or reagents/objects found in the response\"})\n",
    "\n",
    "protocol = \"We will expose wild-type astrocytes and ASH1L-depleted astrocytes to PBS (control), LPS, and Poly(I:C) in vitro. We will then use RT-qPCR to quantify the expression of IL6 and TNF, two pro-inflammatory cytokine encoding genes upregulated by astrocytes upon activation, in all samples [9].\"\n",
    "print(process_sequential_protocol(protocol))\n"
   ]
  }
 ],
 "metadata": {
  "kernelspec": {
   "display_name": "Python 3",
   "language": "python",
   "name": "python3"
  },
  "language_info": {
   "codemirror_mode": {
    "name": "ipython",
    "version": 3
   },
   "file_extension": ".py",
   "mimetype": "text/x-python",
   "name": "python",
   "nbconvert_exporter": "python",
   "pygments_lexer": "ipython3",
   "version": "3.12.1"
  }
 },
 "nbformat": 4,
 "nbformat_minor": 2
}
